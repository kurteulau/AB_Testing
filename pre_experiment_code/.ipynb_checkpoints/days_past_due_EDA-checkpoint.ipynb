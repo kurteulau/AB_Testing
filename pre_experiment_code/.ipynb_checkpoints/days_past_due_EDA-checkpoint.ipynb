{
 "cells": [
  {
   "cell_type": "markdown",
   "id": "f90bead0-9713-4b80-bec3-2d3f602c9466",
   "metadata": {
    "tags": []
   },
   "source": [
    "# Imports & Global Variables"
   ]
  },
  {
   "cell_type": "code",
   "execution_count": 1,
   "id": "1da8383c-a51e-4ce0-a37e-55e2012ca556",
   "metadata": {},
   "outputs": [],
   "source": [
    "import os\n",
    "import pandas as pd\n",
    "import numpy as np\n",
    "import datetime as dt\n",
    "import matplotlib.pyplot as plt\n",
    "from datetime import timedelta, date, datetime"
   ]
  },
  {
   "cell_type": "code",
   "execution_count": 2,
   "id": "7c282ef4-dd01-4b10-995f-035a2e090664",
   "metadata": {},
   "outputs": [],
   "source": [
    "YEAR = '2022'\n",
    "MONTH = '06'\n",
    "DAY = '05'\n",
    "DATA_DIR_RAW = 'data/raw'\n",
    "DATA_DIR_PROCESSED = 'data/processed'"
   ]
  },
  {
   "cell_type": "markdown",
   "id": "72a2e9c3-2fa1-416c-a536-7d82a00daa3d",
   "metadata": {
    "tags": []
   },
   "source": [
    "# Load files"
   ]
  },
  {
   "cell_type": "code",
   "execution_count": 3,
   "id": "efd5ac3c-a8a5-4964-bd70-adb1de4b1dee",
   "metadata": {},
   "outputs": [],
   "source": [
    "# Filepaths names must follow convention of data/YYYYMMDD_accounts.xlsx or data/YYYYMMDD_payments.xlsx\n",
    "ACCOUNTS_FILE = os.path.join(DATA_DIR_RAW, YEAR + MONTH + DAY + '_accounts.csv')\n",
    "PAYMENTS_FILE = os.path.join(DATA_DIR_RAW, YEAR + MONTH + DAY + '_payments.csv')"
   ]
  },
  {
   "cell_type": "code",
   "execution_count": 4,
   "id": "e62fcf48-125d-4edd-a152-ac762ed39086",
   "metadata": {
    "tags": []
   },
   "outputs": [],
   "source": [
    "# Load accounts\n",
    "use_cols = ['account_number', 'registration_date_utc', 'upfront_price', 'upfront_days_included', 'unlock_price', \n",
    "            'hour_price', 'nominal_term', 'registering_user', 'registering_user_angaza_id']\n",
    "datetime_cols = ['registration_date_utc']\n",
    "accounts = pd.read_csv(ACCOUNTS_FILE, usecols=use_cols, parse_dates=datetime_cols)\n",
    "\n",
    "# Sort values in ascending order, reset index so earliest account has index value of 0\n",
    "accounts.sort_values('registration_date_utc', inplace=True)\n",
    "accounts.reset_index(drop=True, inplace=True)"
   ]
  },
  {
   "cell_type": "code",
   "execution_count": 5,
   "id": "10ae540d-574e-4e53-9560-ff31b57b17c2",
   "metadata": {
    "tags": []
   },
   "outputs": [],
   "source": [
    "# Load payments\n",
    "use_cols = ['account_number', 'effective_utc', 'amount']\n",
    "datetime_cols = ['effective_utc']\n",
    "payments = pd.read_csv(PAYMENTS_FILE, usecols=use_cols, parse_dates=datetime_cols)\n",
    "\n",
    "# Sort values in ascending order, reset index so earliest account has index value of 0\n",
    "payments.sort_values('effective_utc', inplace=True)\n",
    "payments.reset_index(drop=True, inplace=True)"
   ]
  },
  {
   "cell_type": "code",
   "execution_count": 6,
   "id": "9fb56cef-5fab-4e14-bdcb-8774c539e5a1",
   "metadata": {},
   "outputs": [],
   "source": [
    "# Drop rows where account number is NULL from accounts and payments df\n",
    "accounts.dropna(subset=['account_number'], inplace=True)\n",
    "payments.dropna(subset=['account_number'], inplace=True)"
   ]
  },
  {
   "cell_type": "markdown",
   "id": "bab58f47-5647-4e2d-aa30-0b404e5f1407",
   "metadata": {
    "tags": []
   },
   "source": [
    "# Helper functions"
   ]
  },
  {
   "cell_type": "code",
   "execution_count": 7,
   "id": "c36e501a-a7ae-4b8c-9608-53450ce8c22c",
   "metadata": {},
   "outputs": [],
   "source": [
    "# Calculate amount paid up to specified date by particular account\n",
    "def paid_to_date(year, month, day, payment_list):  \n",
    "    \"\"\"\n",
    "    Params: datetime with Year-Month-Day Hour:Min:Sec, list of payments made by one account\n",
    "    Returns: total amount paid up to specified datetime for an individual account\n",
    "    \"\"\"\n",
    "    \n",
    "    payments = [payment[1] for payment in payment_list if payment[0] <= dt.datetime(year, month, day, 23, 59, 59)]\n",
    "    \n",
    "    return sum(payments)"
   ]
  },
  {
   "cell_type": "code",
   "execution_count": 8,
   "id": "2bdb893b-812a-4f82-8c4e-3c4a39fb3df0",
   "metadata": {},
   "outputs": [],
   "source": [
    "def find_recent_payment(payments_to_date, date):\n",
    "    \"\"\"\n",
    "    Params: list of all payments made by client up until data download date, date of interest\n",
    "    Returns: most recent payment made as a datetime or False if no payment made before date of interest\n",
    "    \"\"\"\n",
    "    payments = []\n",
    "    for pay in payments_to_date:\n",
    "        if dt.datetime(pay[0].year, pay[0].month, pay[0].day) <= date:\n",
    "            payments.append(pay)\n",
    "    \n",
    "    if len(payments) > 0:\n",
    "        last_payment = payments[-1]\n",
    "    else:\n",
    "        last_payment = False\n",
    "    return(last_payment)"
   ]
  },
  {
   "cell_type": "code",
   "execution_count": 9,
   "id": "e3c0a629-4e25-499b-b4e1-677bef9b20ba",
   "metadata": {},
   "outputs": [],
   "source": [
    "def calc_days_past_due(date, date_recent, days_past, amount, daily_price):\n",
    "    \"\"\"\n",
    "    Calculates days past due given a date, the previous pay date, and number of days past due on previous\n",
    "    pay date.\n",
    "    \n",
    "    Can find days past due for pay dates by using only pay dates\n",
    "    Can find dasy past due for any date (including EOM) using date = EOM date and date_recent as most recent payment\n",
    "    \n",
    "    Params: date: date of current payment as dt.datetime() object\n",
    "            date_recent: date of most recent payment as dt.datetime() object\n",
    "            days_past: number of days past at time of most recent payment as float or int\n",
    "            amount: amount paid during previous payment as float or int\n",
    "            daily_price: cost per day to enable device as float or int\n",
    "    Returns: number of days past due for current payment date, non-positive value means paid on time\n",
    "    \"\"\"\n",
    "    \n",
    "    # PAYGo definition of PAR means you reset days past due as soon as you make a late payment\n",
    "    if days_past > 0:\n",
    "        days_past = 0\n",
    "    return(days_past + (date - date_recent).days - (amount / daily_price))"
   ]
  },
  {
   "cell_type": "code",
   "execution_count": 10,
   "id": "7218a3b1-93a7-48f2-ada0-2a65c8932915",
   "metadata": {},
   "outputs": [],
   "source": [
    "def days_past_due_all_payments(payments_to_date, days_upfront_included, daily_price):\n",
    "    # Calculate days past due for every payment actually made\n",
    "    # Produce list of payments with days past due info attached to every payment - SHOULD THIS BE ITS OWN CELL/FUNCTION?\n",
    "    days_past_due = 0    \n",
    "    \n",
    "    # Keeps only year, month, and day in datetimes in payments_to_date\n",
    "    pay_to_date_ymd = []\n",
    "    for payment in payments_to_date:\n",
    "        pay_to_date_ymd.append((dt.datetime(payment[0].year, payment[0].month, payment[0].day), payment[1]))\n",
    "    \n",
    "    # List of tuples of the form (date of payment, amount paid, days past due at time of payment)\n",
    "    # No entry if no second payment made\n",
    "    pay_days_past_due = []\n",
    "    \n",
    "    pay_days_past_due.append((pay_to_date_ymd[0][0], pay_to_date_ymd[0][1], 0))\n",
    "    \n",
    "    # If more than minimum upfront payment paid then calculate days_past_due\n",
    "    # Minimum upfront payment will always be first payment made\n",
    "    if len(pay_to_date_ymd) > 1:\n",
    "        # Calculate first payment days past due since amount paid upfront differs from monthly payment\n",
    "        days_past_due = calc_days_past_due(pay_to_date_ymd[1][0],  \n",
    "                                           pay_to_date_ymd[0][0],  \n",
    "                                           days_past_due, days_upfront_included * daily_price, daily_price)\n",
    "        pay_days_past_due.append((pay_to_date_ymd[1][0], pay_to_date_ymd[1][1], days_past_due))\n",
    "\n",
    "        # Calculate days past due at time of second payment to last payment\n",
    "        if len(pay_to_date_ymd) > 2:\n",
    "            for i in range(1, len(pay_to_date_ymd) - 1):\n",
    "                days_past_due = calc_days_past_due(pay_to_date_ymd[i+1][0], pay_to_date_ymd[i][0], days_past_due, pay_to_date_ymd[i][1], daily_price)\n",
    "                pay_days_past_due.append((pay_to_date_ymd[i+1][0], pay_to_date_ymd[i+1][1], days_past_due))\n",
    "    \n",
    "    return(pay_days_past_due)"
   ]
  },
  {
   "cell_type": "markdown",
   "id": "c546daf2-ef86-4aed-ad73-f37bdb278295",
   "metadata": {
    "tags": []
   },
   "source": [
    "# Calculate distribution of days past due"
   ]
  },
  {
   "cell_type": "code",
   "execution_count": 11,
   "id": "fb9626a8-f1ee-4d36-a7e6-d604f39653ba",
   "metadata": {},
   "outputs": [],
   "source": [
    "# Create column in payments with day of payment date\n",
    "payments = payments.assign(pay_date=payments['effective_utc'].dt.strftime('%Y-%m-%d'))\n",
    "\n",
    "# Create column in accounts that with day of registration date\n",
    "accounts = accounts.assign(reg_date=accounts['registration_date_utc'].dt.strftime('%Y-%m-%d'))"
   ]
  },
  {
   "cell_type": "code",
   "execution_count": 12,
   "id": "789f120c-e217-444a-ae47-0db9ecb04ed7",
   "metadata": {},
   "outputs": [],
   "source": [
    "# Pulls all payments to date, along with amount, for each account from payments sheet into accounts sheet\n",
    "# as list of tuples\n",
    "# VERY INEFFICIENT\n",
    "\n",
    "payments_to_date = []\n",
    "\n",
    "for acct_num in accounts['account_number']:\n",
    "    acct_payments = payments.loc[payments['account_number'] == acct_num]\n",
    "    acct_payments_short = list(zip(acct_payments['effective_utc'], acct_payments['amount']))\n",
    "    payments_to_date.append(acct_payments_short)\n",
    "\n",
    "accounts = accounts.assign(payments_to_date = payments_to_date)"
   ]
  },
  {
   "cell_type": "code",
   "execution_count": 13,
   "id": "efbc0260-c736-43ee-a3c1-08253ce724ac",
   "metadata": {},
   "outputs": [],
   "source": [
    "# Caculate the amount paid upfront for each account\n",
    "# VERY INEFFICIENT\n",
    "\n",
    "upfront_payment = []\n",
    "\n",
    "for acct_num in accounts['account_number']:\n",
    "    #all_payments_one_acct = payments.loc[(payments['account_number'] == acct_num)]\n",
    "    acct_reg_date = accounts[accounts['account_number'] == acct_num]['reg_date'].values[0]\n",
    "    acct_upfront_pay = payments.loc[(payments['pay_date'] == acct_reg_date) & (payments['account_number'] == acct_num)]\n",
    "    upfront_payment.append(acct_upfront_pay['amount'].sum())\n",
    "    \n",
    "accounts = accounts.assign(upfront_paid = upfront_payment)"
   ]
  },
  {
   "cell_type": "code",
   "execution_count": 14,
   "id": "f038f40b-ba8f-4890-83c0-43666f3e4594",
   "metadata": {},
   "outputs": [],
   "source": [
    "# Create column of daily price\n",
    "accounts['daily_price'] = accounts['hour_price'] * 24"
   ]
  },
  {
   "cell_type": "code",
   "execution_count": 15,
   "id": "5a548784-9eb4-476c-a13f-932dfaab348e",
   "metadata": {},
   "outputs": [],
   "source": [
    "# Create column of thirty day price\n",
    "accounts['thirty_day_price'] = round(accounts['daily_price'] * 30).astype(int)"
   ]
  },
  {
   "cell_type": "code",
   "execution_count": 16,
   "id": "e7e80af8-2502-430b-814e-fba3a7ecec5a",
   "metadata": {},
   "outputs": [],
   "source": [
    "# Calculate when first adaptive payment is due for every account, where \"first payment\" is defined as first payment\n",
    "# after upfront payment. \"Adaptive\" means first payment scheduled responsive to amount paid up front.\n",
    "# If account pays more than upfront_price, then first scheduled payment will be later than standard \n",
    "# first payment\n",
    "\n",
    "first_payment_date_adaptive = []\n",
    "\n",
    "for i in range(accounts.shape[0]):\n",
    "    upfront_paid = accounts.iloc[i]['upfront_paid']\n",
    "    unlock_price = accounts.iloc[i]['unlock_price']\n",
    "    upfront_price = accounts.iloc[i]['upfront_price']\n",
    "    registration_date = accounts.iloc[i]['registration_date_utc']\n",
    "    upfront_days_included = int(accounts.iloc[i]['upfront_days_included'])\n",
    "    daily_price = accounts.iloc[i]['daily_price']\n",
    "    nominal_term = accounts.iloc[i]['nominal_term']\n",
    "    \n",
    "    if np.isnan(nominal_term):\n",
    "        first_payment_date_adaptive.append(np.NaN)\n",
    "    elif upfront_paid == upfront_price:\n",
    "        date = dt.datetime(registration_date.year, registration_date.month, registration_date.day)\n",
    "        first_payment_date_adaptive.append(date + timedelta(days=upfront_days_included))\n",
    "    else: \n",
    "        extra_days = timedelta(round((upfront_paid - upfront_price) / daily_price))\n",
    "        included_days = timedelta(upfront_days_included)\n",
    "        date = dt.datetime(registration_date.year, registration_date.month, registration_date.day) \n",
    "        first_payment_date_adaptive.append(date + extra_days + included_days)\n",
    "    \n",
    "accounts = accounts.assign(first_payment_date_adaptive = first_payment_date_adaptive)"
   ]
  },
  {
   "cell_type": "code",
   "execution_count": 17,
   "id": "c7619b0c-53de-4175-ba23-d3d104a7e075",
   "metadata": {},
   "outputs": [],
   "source": [
    "# Create column that has list of days past due at every payment made by each client\n",
    "\n",
    "days_past_due_status = []\n",
    "\n",
    "for i in range(accounts.shape[0]):\n",
    "    daily_price = accounts.iloc[i]['daily_price']\n",
    "    unlock_price = accounts.iloc[i]['unlock_price']\n",
    "    upfront_paid = accounts.iloc[i]['upfront_paid']\n",
    "    payments_to_date = accounts.iloc[i]['payments_to_date']\n",
    "    nominal_term = accounts.iloc[i]['nominal_term']\n",
    "    days_upfront_included = accounts.iloc[i]['upfront_days_included']\n",
    "        \n",
    "    if np.isnan(nominal_term) or upfront_paid == unlock_price:\n",
    "        days_past_due_record = np.NaN\n",
    "    else:\n",
    "        days_past_due_record = days_past_due_all_payments(payments_to_date, days_upfront_included, daily_price)\n",
    "    \n",
    "    days_past_due_status.append(days_past_due_record)\n",
    "\n",
    "accounts = accounts.assign(days_past_due = days_past_due_status)  "
   ]
  },
  {
   "cell_type": "code",
   "execution_count": 18,
   "id": "83c9cd13-1ce3-4662-85d3-5de3ed06352e",
   "metadata": {},
   "outputs": [
    {
     "data": {
      "text/plain": [
       "0       [(2016-12-15 00:00:00, 35720.0, 0), (2017-01-1...\n",
       "1       [(2016-12-21 00:00:00, 36000.0, 0), (2017-01-2...\n",
       "6       [(2017-05-24 00:00:00, 36000.0, 0), (2017-06-2...\n",
       "7       [(2017-06-01 00:00:00, 36000.0, 0), (2017-07-0...\n",
       "8       [(2017-06-09 00:00:00, 36000.0, 0), (2017-07-1...\n",
       "                              ...                        \n",
       "3956                  [(2022-06-04 00:00:00, 50000.0, 0)]\n",
       "3957                  [(2022-06-05 00:00:00, 10000.0, 0)]\n",
       "3958                  [(2022-06-05 00:00:00, 43000.0, 0)]\n",
       "3959                  [(2022-06-05 00:00:00, 88000.0, 0)]\n",
       "3960                  [(2022-06-05 00:00:00, 45000.0, 0)]\n",
       "Name: days_past_due, Length: 3384, dtype: object"
      ]
     },
     "execution_count": 18,
     "metadata": {},
     "output_type": "execute_result"
    }
   ],
   "source": [
    "payments_with_days_past_due = accounts['days_past_due'].dropna()\n",
    "payments_with_days_past_due"
   ]
  },
  {
   "cell_type": "code",
   "execution_count": null,
   "id": "0467eea9-45ad-4193-9761-b41b71108c9f",
   "metadata": {},
   "outputs": [],
   "source": [
    "# ORIGINAL\n",
    "days_past_due_distribution = []\n",
    "\n",
    "for list_of_payments in payments_with_days_past_due:\n",
    "    if len(list_of_payments) > 0:\n",
    "        for payment in list_of_payments[1:]:\n",
    "            days_past_due_distribution.append(int(payment[2]))\n",
    "        \n",
    "days_past_due_distribution[:10]"
   ]
  },
  {
   "cell_type": "code",
   "execution_count": 29,
   "id": "fac7e160-616c-4684-a18a-d1ca70517fbd",
   "metadata": {},
   "outputs": [
    {
     "data": {
      "text/plain": [
       "[1211, 3, 0, 121, 2, 66, 26, 56, 25, 46]"
      ]
     },
     "execution_count": 29,
     "metadata": {},
     "output_type": "execute_result"
    }
   ],
   "source": [
    "# NEW\n",
    "days_past_due_distribution = []\n",
    "\n",
    "for list_of_payments in payments_with_days_past_due:\n",
    "    if len(list_of_payments) > 0:\n",
    "        for payment in list_of_payments[1:]:\n",
    "            if payment[0] >= dt.datetime(2021, 12, 5):\n",
    "                days_past_due_distribution.append(int(payment[2]))\n",
    "        \n",
    "days_past_due_distribution[:10]"
   ]
  },
  {
   "cell_type": "code",
   "execution_count": 30,
   "id": "9db4f786-ed49-496b-822a-12b0e6c716e7",
   "metadata": {},
   "outputs": [
    {
     "data": {
      "text/plain": [
       "count    25834.000000\n",
       "mean         0.267748\n",
       "std         30.764931\n",
       "min      -1264.000000\n",
       "25%          0.000000\n",
       "50%          0.000000\n",
       "75%          1.000000\n",
       "max       1211.000000\n",
       "dtype: float64"
      ]
     },
     "execution_count": 30,
     "metadata": {},
     "output_type": "execute_result"
    }
   ],
   "source": [
    "pd.Series(days_past_due_distribution).describe()"
   ]
  },
  {
   "cell_type": "code",
   "execution_count": 31,
   "id": "8bd8dd80-58d3-4b5e-b11a-ab01cb0fa2fb",
   "metadata": {},
   "outputs": [
    {
     "data": {
      "text/plain": [
       "Text(0, 0.5, 'Frequency')"
      ]
     },
     "execution_count": 31,
     "metadata": {},
     "output_type": "execute_result"
    },
    {
     "data": {
      "image/png": "[encoded data removed]",
      "text/plain": [
       "<Figure size 432x288 with 1 Axes>"
      ]
     },
     "metadata": {
      "needs_background": "light"
     },
     "output_type": "display_data"
    }
   ],
   "source": [
    "plt.hist(days_past_due_distribution, bins=100)\n",
    "plt.title('Distribution of Days Past Due')\n",
    "plt.xlabel('Number of Days Past Due')\n",
    "plt.ylabel('Frequency')"
   ]
  },
  {
   "cell_type": "code",
   "execution_count": 38,
   "id": "a6910063-a48e-4e3f-9260-2dff1aeaeaf0",
   "metadata": {},
   "outputs": [
    {
     "data": {
      "text/plain": [
       "Text(0, 0.5, 'Frequency')"
      ]
     },
     "execution_count": 38,
     "metadata": {},
     "output_type": "execute_result"
    },
    {
     "data": {
      "image/png": "[encoded data removed]",
      "text/plain": [
       "<Figure size 432x288 with 1 Axes>"
      ]
     },
     "metadata": {
      "needs_background": "light"
     },
     "output_type": "display_data"
    }
   ],
   "source": [
    "plt.boxplot(days_past_due_distribution)\n",
    "plt.title('Distribution of Days Past Due')\n",
    "plt.xlabel('Number of Days Past Due')\n",
    "plt.ylabel('Frequency')"
   ]
  },
  {
   "cell_type": "code",
   "execution_count": 43,
   "id": "da87c3c3-cc17-40f2-9394-83b49537b2e6",
   "metadata": {},
   "outputs": [
    {
     "data": {
      "text/plain": [
       "0.18003406363706742"
      ]
     },
     "execution_count": 43,
     "metadata": {},
     "output_type": "execute_result"
    }
   ],
   "source": [
    "# Proportion of payments paid ahead of time\n",
    "len([days_past for days_past in days_past_due_distribution if days_past < 0]) / len(days_past_due_distribution)"
   ]
  },
  {
   "cell_type": "code",
   "execution_count": 46,
   "id": "bebf49f5-7a64-4a50-9437-6b04a9af72e0",
   "metadata": {},
   "outputs": [
    {
     "data": {
      "text/plain": [
       "0.13892544708523652"
      ]
     },
     "execution_count": 46,
     "metadata": {},
     "output_type": "execute_result"
    }
   ],
   "source": [
    "# Proportion of payments made exactly one day late\n",
    "len([days_past for days_past in days_past_due_distribution if days_past == 1]) / len(days_past_due_distribution)"
   ]
  },
  {
   "cell_type": "code",
   "execution_count": 47,
   "id": "82ae90a6-6d3d-4962-8b62-aa3f7c114773",
   "metadata": {},
   "outputs": [
    {
     "data": {
      "text/plain": [
       "0.05194704652783154"
      ]
     },
     "execution_count": 47,
     "metadata": {},
     "output_type": "execute_result"
    }
   ],
   "source": [
    "# Proportion of payments made exactly one day late\n",
    "len([days_past for days_past in days_past_due_distribution if days_past == 2]) / len(days_past_due_distribution)"
   ]
  },
  {
   "cell_type": "code",
   "execution_count": 48,
   "id": "2858d49f-909c-4aa1-b017-e2cb6bc8ad96",
   "metadata": {},
   "outputs": [
    {
     "data": {
      "text/plain": [
       "0.04157312069365952"
      ]
     },
     "execution_count": 48,
     "metadata": {},
     "output_type": "execute_result"
    }
   ],
   "source": [
    "# Proportion of payments made exactly more than 14 days late\n",
    "len([days_past for days_past in days_past_due_distribution if days_past > 14]) / len(days_past_due_distribution)"
   ]
  },
  {
   "cell_type": "markdown",
   "id": "33ce2d6b-e7e2-4f49-b9fb-68d6bd5a1e5f",
   "metadata": {},
   "source": [
    "Note: About 5% of people pay more than 2 weeks late. If you are in the back half of the experiment intervention period then we'd expect about 5% of people to not pay. __WE WILL LIKELY NOT HAVE SOME PEOPLE WHO DON'T REPORT AN OUTCOME__"
   ]
  },
  {
   "cell_type": "code",
   "execution_count": null,
   "id": "999b1aee-7abd-4b34-a453-3e0f441a4c79",
   "metadata": {},
   "outputs": [],
   "source": []
  }
 ],
 "metadata": {
  "kernelspec": {
   "display_name": "Python 3 (ipykernel)",
   "language": "python",
   "name": "python3"
  },
  "language_info": {
   "codemirror_mode": {
    "name": "ipython",
    "version": 3
   },
   "file_extension": ".py",
   "mimetype": "text/x-python",
   "name": "python",
   "nbconvert_exporter": "python",
   "pygments_lexer": "ipython3",
   "version": "3.9.7"
  },
  "toc-autonumbering": false
 },
 "nbformat": 4,
 "nbformat_minor": 5
}
